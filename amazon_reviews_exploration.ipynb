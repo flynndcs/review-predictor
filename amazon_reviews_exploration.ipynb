{
 "cells": [
  {
   "cell_type": "code",
   "execution_count": 1,
   "id": "cfa70a20-7a0c-4af8-82d5-2921ba2fe5fc",
   "metadata": {},
   "outputs": [
    {
     "name": "stdout",
     "output_type": "stream",
     "text": [
      "Environment ready! 🚀\n"
     ]
    }
   ],
   "source": [
    "# Cell 1: Imports and setup\n",
    "from datasets import load_dataset\n",
    "import pandas as pd\n",
    "import matplotlib.pyplot as plt\n",
    "import seaborn as sns\n",
    "\n",
    "# Make plots appear in the notebook\n",
    "%matplotlib inline\n",
    "\n",
    "print(\"Environment ready! 🚀\")"
   ]
  },
  {
   "cell_type": "code",
   "execution_count": 2,
   "id": "2c0e5e40-fde9-4cbd-b254-07095a0fa371",
   "metadata": {},
   "outputs": [
    {
     "name": "stdout",
     "output_type": "stream",
     "text": [
      "Loading Amazon Reviews dataset...\n",
      "Loaded 701528 reviews!\n"
     ]
    },
    {
     "data": {
      "text/html": [
       "<div>\n",
       "<style scoped>\n",
       "    .dataframe tbody tr th:only-of-type {\n",
       "        vertical-align: middle;\n",
       "    }\n",
       "\n",
       "    .dataframe tbody tr th {\n",
       "        vertical-align: top;\n",
       "    }\n",
       "\n",
       "    .dataframe thead th {\n",
       "        text-align: right;\n",
       "    }\n",
       "</style>\n",
       "<table border=\"1\" class=\"dataframe\">\n",
       "  <thead>\n",
       "    <tr style=\"text-align: right;\">\n",
       "      <th></th>\n",
       "      <th>rating</th>\n",
       "      <th>title</th>\n",
       "      <th>text</th>\n",
       "      <th>images</th>\n",
       "      <th>asin</th>\n",
       "      <th>parent_asin</th>\n",
       "      <th>user_id</th>\n",
       "      <th>timestamp</th>\n",
       "      <th>helpful_vote</th>\n",
       "      <th>verified_purchase</th>\n",
       "    </tr>\n",
       "  </thead>\n",
       "  <tbody>\n",
       "    <tr>\n",
       "      <th>0</th>\n",
       "      <td>5.0</td>\n",
       "      <td>Such a lovely scent but not overpowering.</td>\n",
       "      <td>This spray is really nice. It smells really go...</td>\n",
       "      <td>[]</td>\n",
       "      <td>B00YQ6X8EO</td>\n",
       "      <td>B00YQ6X8EO</td>\n",
       "      <td>AGKHLEW2SOWHNMFQIJGBECAF7INQ</td>\n",
       "      <td>1588687728923</td>\n",
       "      <td>0</td>\n",
       "      <td>True</td>\n",
       "    </tr>\n",
       "    <tr>\n",
       "      <th>1</th>\n",
       "      <td>4.0</td>\n",
       "      <td>Works great but smells a little weird.</td>\n",
       "      <td>This product does what I need it to do, I just...</td>\n",
       "      <td>[]</td>\n",
       "      <td>B081TJ8YS3</td>\n",
       "      <td>B081TJ8YS3</td>\n",
       "      <td>AGKHLEW2SOWHNMFQIJGBECAF7INQ</td>\n",
       "      <td>1588615855070</td>\n",
       "      <td>1</td>\n",
       "      <td>True</td>\n",
       "    </tr>\n",
       "    <tr>\n",
       "      <th>2</th>\n",
       "      <td>5.0</td>\n",
       "      <td>Yes!</td>\n",
       "      <td>Smells good, feels great!</td>\n",
       "      <td>[]</td>\n",
       "      <td>B07PNNCSP9</td>\n",
       "      <td>B097R46CSY</td>\n",
       "      <td>AE74DYR3QUGVPZJ3P7RFWBGIX7XQ</td>\n",
       "      <td>1589665266052</td>\n",
       "      <td>2</td>\n",
       "      <td>True</td>\n",
       "    </tr>\n",
       "    <tr>\n",
       "      <th>3</th>\n",
       "      <td>1.0</td>\n",
       "      <td>Synthetic feeling</td>\n",
       "      <td>Felt synthetic</td>\n",
       "      <td>[]</td>\n",
       "      <td>B09JS339BZ</td>\n",
       "      <td>B09JS339BZ</td>\n",
       "      <td>AFQLNQNQYFWQZPJQZS6V3NZU4QBQ</td>\n",
       "      <td>1643393630220</td>\n",
       "      <td>0</td>\n",
       "      <td>True</td>\n",
       "    </tr>\n",
       "    <tr>\n",
       "      <th>4</th>\n",
       "      <td>5.0</td>\n",
       "      <td>A+</td>\n",
       "      <td>Love it</td>\n",
       "      <td>[]</td>\n",
       "      <td>B08BZ63GMJ</td>\n",
       "      <td>B08BZ63GMJ</td>\n",
       "      <td>AFQLNQNQYFWQZPJQZS6V3NZU4QBQ</td>\n",
       "      <td>1609322563534</td>\n",
       "      <td>0</td>\n",
       "      <td>True</td>\n",
       "    </tr>\n",
       "  </tbody>\n",
       "</table>\n",
       "</div>"
      ],
      "text/plain": [
       "   rating                                      title  \\\n",
       "0     5.0  Such a lovely scent but not overpowering.   \n",
       "1     4.0     Works great but smells a little weird.   \n",
       "2     5.0                                       Yes!   \n",
       "3     1.0                          Synthetic feeling   \n",
       "4     5.0                                         A+   \n",
       "\n",
       "                                                text images        asin  \\\n",
       "0  This spray is really nice. It smells really go...     []  B00YQ6X8EO   \n",
       "1  This product does what I need it to do, I just...     []  B081TJ8YS3   \n",
       "2                          Smells good, feels great!     []  B07PNNCSP9   \n",
       "3                                     Felt synthetic     []  B09JS339BZ   \n",
       "4                                            Love it     []  B08BZ63GMJ   \n",
       "\n",
       "  parent_asin                       user_id      timestamp  helpful_vote  \\\n",
       "0  B00YQ6X8EO  AGKHLEW2SOWHNMFQIJGBECAF7INQ  1588687728923             0   \n",
       "1  B081TJ8YS3  AGKHLEW2SOWHNMFQIJGBECAF7INQ  1588615855070             1   \n",
       "2  B097R46CSY  AE74DYR3QUGVPZJ3P7RFWBGIX7XQ  1589665266052             2   \n",
       "3  B09JS339BZ  AFQLNQNQYFWQZPJQZS6V3NZU4QBQ  1643393630220             0   \n",
       "4  B08BZ63GMJ  AFQLNQNQYFWQZPJQZS6V3NZU4QBQ  1609322563534             0   \n",
       "\n",
       "   verified_purchase  \n",
       "0               True  \n",
       "1               True  \n",
       "2               True  \n",
       "3               True  \n",
       "4               True  "
      ]
     },
     "execution_count": 2,
     "metadata": {},
     "output_type": "execute_result"
    }
   ],
   "source": [
    "# Cell 2: Load the dataset\n",
    "print(\"Loading Amazon Reviews dataset...\")\n",
    "dataset = load_dataset(\"McAuley-Lab/Amazon-Reviews-2023\", \n",
    "                      \"raw_review_All_Beauty\", \n",
    "                      trust_remote_code=True)\n",
    "\n",
    "df = dataset['full'].to_pandas()\n",
    "print(f\"Loaded {len(df)} reviews!\")\n",
    "df.head()"
   ]
  },
  {
   "cell_type": "code",
   "execution_count": 3,
   "id": "ae9c158a-82a6-4ba9-bdcc-1502483f5e00",
   "metadata": {},
   "outputs": [
    {
     "name": "stdout",
     "output_type": "stream",
     "text": [
      "Dataset shape: (701528, 10)\n",
      "\n",
      "Rating distribution:\n"
     ]
    },
    {
     "data": {
      "text/plain": [
       "rating\n",
       "1.0    102080\n",
       "2.0     43034\n",
       "3.0     56307\n",
       "4.0     79381\n",
       "5.0    420726\n",
       "Name: count, dtype: int64"
      ]
     },
     "execution_count": 3,
     "metadata": {},
     "output_type": "execute_result"
    }
   ],
   "source": [
    "# Cell 3: Quick exploration\n",
    "print(\"Dataset shape:\", df.shape)\n",
    "print(\"\\nRating distribution:\")\n",
    "df['rating'].value_counts().sort_index()"
   ]
  },
  {
   "cell_type": "code",
   "execution_count": 4,
   "id": "e82beb5a-0eab-4439-8197-a1407bf1265a",
   "metadata": {},
   "outputs": [
    {
     "name": "stdout",
     "output_type": "stream",
     "text": [
      "Most common words:\n",
      "[('the', 3560), ('i', 2930), ('and', 2522), ('a', 2386), ('to', 2220), ('it', 2181), ('is', 1736), ('this', 1464), ('of', 1365), ('my', 1341), ('for', 1177), ('in', 988), ('that', 911), ('br', 812), ('with', 767), ('on', 724), ('not', 664), ('are', 659), ('but', 656), ('skin', 655)]\n"
     ]
    }
   ],
   "source": [
    "# Most common words (basic analysis)\n",
    "from collections import Counter\n",
    "import re\n",
    "\n",
    "def clean_text_basic(text):\n",
    "    \"\"\"Basic text cleaning\"\"\"\n",
    "    if pd.isna(text):\n",
    "        return \"\"\n",
    "    # Convert to lowercase, remove special chars, split\n",
    "    text = re.sub(r'[^a-zA-Z\\s]', '', text.lower())\n",
    "    return text\n",
    "\n",
    "# Sample analysis on first 1000 reviews for speed\n",
    "sample_df = df.head(1000).copy()\n",
    "sample_df['clean_text'] = sample_df['text'].apply(clean_text_basic)\n",
    "\n",
    "# Most common words\n",
    "all_words = []\n",
    "for text in sample_df['clean_text']:\n",
    "    all_words.extend(text.split())\n",
    "\n",
    "word_counts = Counter(all_words)\n",
    "print(\"Most common words:\")\n",
    "print(word_counts.most_common(20))"
   ]
  },
  {
   "cell_type": "code",
   "execution_count": 6,
   "id": "157b974c-660d-42fc-a0c3-461ad99d564b",
   "metadata": {},
   "outputs": [
    {
     "name": "stdout",
     "output_type": "stream",
     "text": [
      "Data Quality Checks:\n",
      "==================================================\n",
      "Reviews with missing text: 0\n",
      "Reviews with missing ratings: 0\n",
      "Invalid ratings: 0\n",
      "Potential duplicate reviews: 70783\n",
      "Very short reviews (< 10 chars): 27373\n",
      "Extremely long reviews (> 5000 chars): 76\n"
     ]
    }
   ],
   "source": [
    "# Check for potential issues\n",
    "print(\"Data Quality Checks:\")\n",
    "print(\"=\" * 50)\n",
    "\n",
    "df['text_length'] = df['text'].str.len()\n",
    "\n",
    "# 1. Missing text or ratings\n",
    "print(f\"Reviews with missing text: {df['text'].isnull().sum()}\")\n",
    "print(f\"Reviews with missing ratings: {df['rating'].isnull().sum()}\")\n",
    "\n",
    "# 2. Invalid ratings\n",
    "valid_ratings = df['rating'].between(1, 5)\n",
    "print(f\"Invalid ratings: {(~valid_ratings).sum()}\")\n",
    "\n",
    "# 3. Duplicate reviews\n",
    "duplicates = df.duplicated(subset=['text'], keep=False)\n",
    "print(f\"Potential duplicate reviews: {duplicates.sum()}\")\n",
    "\n",
    "# 4. Empty or very short reviews\n",
    "empty_reviews = df['text'].str.strip().str.len() < 10\n",
    "print(f\"Very short reviews (< 10 chars): {empty_reviews.sum()}\")\n",
    "\n",
    "# 5. Extremely long reviews (might be spam)\n",
    "very_long = df['text_length'] > 5000\n",
    "print(f\"Extremely long reviews (> 5000 chars): {very_long.sum()}\")"
   ]
  },
  {
   "cell_type": "code",
   "execution_count": 7,
   "id": "86da286b-6133-4169-9bd0-00b7848b8e96",
   "metadata": {},
   "outputs": [
    {
     "name": "stdout",
     "output_type": "stream",
     "text": [
      "\n",
      "Sample 1-star reviews:\n",
      "1. Felt synthetic...\n",
      "2. nothing special  unfortunately i waited too long to return them ....  no results at all  dont waste your money...\n",
      "3. This halo hair extension is simply put, garbage.  Now, you get what you pay for.  And this is a very cheap version.  The faux hair is very shiny and looks literally like bad barbie hair.  It looks WAY...\n",
      "\n",
      "Sample 5-star reviews:\n",
      "1. This spray is really nice. It smells really good, goes on really fine, and does the trick. I will say it feels like you need a lot of it though to get the texture I want. I have a lot of hair, medium ...\n",
      "2. Smells good, feels great!...\n",
      "3. Love it...\n"
     ]
    }
   ],
   "source": [
    "# Look at examples by rating\n",
    "print(\"\\nSample 1-star reviews:\")\n",
    "one_star = df[df['rating'] == 1.0]['text'].head(3)\n",
    "for i, review in enumerate(one_star, 1):\n",
    "    print(f\"{i}. {review[:200]}...\")\n",
    "\n",
    "print(\"\\nSample 5-star reviews:\")\n",
    "five_star = df[df['rating'] == 5.0]['text'].head(3)\n",
    "for i, review in enumerate(five_star, 1):\n",
    "    print(f\"{i}. {review[:200]}...\")"
   ]
  },
  {
   "cell_type": "code",
   "execution_count": 8,
   "id": "fb1351ba-2ba1-4b12-9a8a-b910cec7563e",
   "metadata": {},
   "outputs": [
    {
     "name": "stdout",
     "output_type": "stream",
     "text": [
      "ML Problem Definition:\n",
      "Input: Review text\n",
      "Output: Star rating (1-5)\n",
      "Task: Multi-class classification\n",
      "\n",
      "Target variable distribution:\n",
      "rating\n",
      "1.0    102080\n",
      "2.0     43034\n",
      "3.0     56307\n",
      "4.0     79381\n",
      "5.0    420726\n",
      "Name: count, dtype: int64\n",
      "\n",
      "Class balance: rating\n",
      "1.0    14.6\n",
      "2.0     6.1\n",
      "3.0     8.0\n",
      "4.0    11.3\n",
      "5.0    60.0\n",
      "Name: count, dtype: float64%\n"
     ]
    }
   ],
   "source": [
    "# Create a new notebook cell or section\n",
    "print(\"ML Problem Definition:\")\n",
    "print(\"Input: Review text\")\n",
    "print(\"Output: Star rating (1-5)\")\n",
    "print(\"Task: Multi-class classification\")\n",
    "\n",
    "# Check the target distribution\n",
    "print(\"\\nTarget variable distribution:\")\n",
    "rating_dist = df['rating'].value_counts().sort_index()\n",
    "print(rating_dist)\n",
    "print(f\"\\nClass balance: {(rating_dist / len(df) * 100).round(1)}%\")"
   ]
  },
  {
   "cell_type": "code",
   "execution_count": 9,
   "id": "31dc1171-b37f-4675-b166-ff343384a496",
   "metadata": {},
   "outputs": [
    {
     "name": "stdout",
     "output_type": "stream",
     "text": [
      "/home/daniel/review-predictor/.venv/bin/python: No module named uv\n",
      "Note: you may need to restart the kernel to use updated packages.\n"
     ]
    }
   ],
   "source": [
    "uv add scikit-learn"
   ]
  },
  {
   "cell_type": "code",
   "execution_count": 11,
   "id": "699ee9dc-d400-4322-8baf-256cd52b4263",
   "metadata": {
    "collapsed": true,
    "jupyter": {
     "outputs_hidden": true
    }
   },
   "outputs": [
    {
     "name": "stdout",
     "output_type": "stream",
     "text": [
      "Working with 10000 samples for initial development\n",
      "Train set: 7004 samples\n",
      "Validation set: 1496 samples\n",
      "Test set: 1500 samples\n",
      "\n",
      "Class distribution in splits:\n",
      "Train: {1.0: np.float64(14.6), 2.0: np.float64(6.1), 3.0: np.float64(7.9), 4.0: np.float64(11.5), 5.0: np.float64(60.0)}\n",
      "Val: {1.0: np.float64(14.6), 2.0: np.float64(6.1), 3.0: np.float64(8.0), 4.0: np.float64(11.4), 5.0: np.float64(60.0)}\n",
      "Test: {1.0: np.float64(14.5), 2.0: np.float64(6.1), 3.0: np.float64(7.9), 4.0: np.float64(11.5), 5.0: np.float64(60.0)}\n"
     ]
    }
   ],
   "source": [
    "from sklearn.model_selection import train_test_split\n",
    "\n",
    "# First, let's work with a manageable subset for development\n",
    "# Start with 10k samples, scale up later\n",
    "sample_size = min(10000, len(df))\n",
    "df_sample = df.sample(n=sample_size, random_state=42).reset_index(drop=True)\n",
    "\n",
    "print(f\"Working with {len(df_sample)} samples for initial development\")\n",
    "\n",
    "# Create features and target\n",
    "X = df_sample['text'].copy()\n",
    "y = df_sample['rating'].copy()\n",
    "\n",
    "# Split the data: 70% train, 15% validation, 15% test\n",
    "X_temp, X_test, y_temp, y_test = train_test_split(\n",
    "    X, y, test_size=0.15, random_state=42, stratify=y\n",
    ")\n",
    "\n",
    "X_train, X_val, y_train, y_val = train_test_split(\n",
    "    X_temp, y_temp, test_size=0.176, random_state=42, stratify=y_temp  # 0.176 * 0.85 ≈ 0.15\n",
    ")\n",
    "\n",
    "print(f\"Train set: {len(X_train)} samples\")\n",
    "print(f\"Validation set: {len(X_val)} samples\") \n",
    "print(f\"Test set: {len(X_test)} samples\")\n",
    "\n",
    "# Verify class distribution is maintained\n",
    "print(\"\\nClass distribution in splits:\")\n",
    "for split_name, split_y in [(\"Train\", y_train), (\"Val\", y_val), (\"Test\", y_test)]:\n",
    "    dist = split_y.value_counts(normalize=True).sort_index() * 100\n",
    "    print(f\"{split_name}: {dict(dist.round(1))}\")"
   ]
  },
  {
   "cell_type": "code",
   "execution_count": 13,
   "id": "1481b65a-76ae-4dbd-99be-4790491f5815",
   "metadata": {},
   "outputs": [
    {
     "name": "stdout",
     "output_type": "stream",
     "text": [
      "Preprocessing text...\n",
      "Sample preprocessed texts:\n",
      "\n",
      "Original: [[VIDEOID:566878dfca8b441b87394548f4602b79]] Love the unit Added bundles to make fuller to my liking...\n",
      "Cleaned:  [[videoid:566878dfca8b441b87394548f4602b79]] love the unit added bundles to make fuller to my liking...\n",
      "\n",
      "Original: [[VIDEOID:9cf1d81157facf7dfbbca7e500f3a58b]] I got all of them 😂 1 is hidden. Each pack got 2 inside...\n",
      "Cleaned:  [[videoid:9cf1d81157facf7dfbbca7e500f3a58b]] i got all of them 😂 1 is hidden. each pack got 2 inside...\n",
      "\n",
      "Original: I love the feel and the smell of this hand cream. It really softens my hands and eleminates winter’s...\n",
      "Cleaned:  i love the feel and the smell of this hand cream. it really softens my hands and eleminates winter’s...\n"
     ]
    }
   ],
   "source": [
    "import re\n",
    "import string\n",
    "from sklearn.feature_extraction.text import TfidfVectorizer\n",
    "from sklearn.preprocessing import LabelEncoder\n",
    "\n",
    "def preprocess_text(text):\n",
    "    \"\"\"\n",
    "    Basic text preprocessing function\n",
    "    Start simple, add complexity as needed\n",
    "    \"\"\"\n",
    "    if pd.isna(text):\n",
    "        return \"\"\n",
    "    \n",
    "    # Convert to lowercase\n",
    "    text = text.lower()\n",
    "    \n",
    "    # Remove extra whitespace\n",
    "    text = re.sub(r'\\s+', ' ', text).strip()\n",
    "    \n",
    "    # Optional: Remove URLs, emails, etc.\n",
    "    text = re.sub(r'http\\S+|www\\S+|https\\S+', '', text)\n",
    "    \n",
    "    return text\n",
    "\n",
    "# Apply preprocessing\n",
    "print(\"Preprocessing text...\")\n",
    "X_train_clean = X_train.apply(preprocess_text)\n",
    "X_val_clean = X_val.apply(preprocess_text)\n",
    "X_test_clean = X_test.apply(preprocess_text)\n",
    "\n",
    "print(\"Sample preprocessed texts:\")\n",
    "for i in range(3):\n",
    "    print(f\"\\nOriginal: {X_train.iloc[i][:100]}...\")\n",
    "    print(f\"Cleaned:  {X_train_clean.iloc[i][:100]}...\")"
   ]
  },
  {
   "cell_type": "code",
   "execution_count": 14,
   "id": "bdb5182c-e847-4d30-a316-240ed6fc5c41",
   "metadata": {},
   "outputs": [
    {
     "name": "stdout",
     "output_type": "stream",
     "text": [
      "test\n"
     ]
    }
   ],
   "source": [
    "print('test')"
   ]
  },
  {
   "cell_type": "code",
   "execution_count": 15,
   "id": "229e09aa-6eb5-4d0c-943c-14bc0c1d073e",
   "metadata": {},
   "outputs": [
    {
     "name": "stdout",
     "output_type": "stream",
     "text": [
      "Fitting TF-IDF vectorizer...\n",
      "Feature matrix shape: (7004, 5000)\n",
      "Vocabulary size: 5000\n",
      "\n",
      "Sample features: ['00' '10' '10 10' '10 days' '10 minutes' '10 recommend' '10 stars' '100'\n",
      " '100 human' '10x' '11' '12' '13' '14' '15' '15 years' '16' '17' '18' '19']\n"
     ]
    }
   ],
   "source": [
    "# Set up TF-IDF vectorizer for baseline model\n",
    "vectorizer = TfidfVectorizer(\n",
    "    max_features=5000,      # Start with 5k features\n",
    "    stop_words='english',   # Remove common words\n",
    "    ngram_range=(1, 2),     # Unigrams and bigrams\n",
    "    min_df=2,               # Ignore terms appearing in < 2 documents\n",
    "    max_df=0.95             # Ignore terms appearing in > 95% of documents\n",
    ")\n",
    "\n",
    "# Fit only on training data\n",
    "print(\"Fitting TF-IDF vectorizer...\")\n",
    "X_train_vectors = vectorizer.fit_transform(X_train_clean)\n",
    "X_val_vectors = vectorizer.transform(X_val_clean)\n",
    "X_test_vectors = vectorizer.transform(X_test_clean)\n",
    "\n",
    "print(f\"Feature matrix shape: {X_train_vectors.shape}\")\n",
    "print(f\"Vocabulary size: {len(vectorizer.vocabulary_)}\")\n",
    "\n",
    "# Look at some features\n",
    "feature_names = vectorizer.get_feature_names_out()\n",
    "print(f\"\\nSample features: {feature_names[:20]}\")"
   ]
  },
  {
   "cell_type": "code",
   "execution_count": 17,
   "id": "2954d2a2-5185-4ade-b5ce-2e7a21aeade2",
   "metadata": {},
   "outputs": [
    {
     "name": "stdout",
     "output_type": "stream",
     "text": [
      "Multi-class dataset: 7004 train samples\n",
      "Binary dataset: 6449 train samples\n",
      "Binary class distribution: {1: 5003, 0: 1446}\n"
     ]
    }
   ],
   "source": [
    "# For most algorithms, we can use ratings directly\n",
    "# But let's also prepare a binary version for experimentation\n",
    "\n",
    "# Multi-class target (1-5 stars)\n",
    "y_train_multi = y_train.copy()\n",
    "y_val_multi = y_val.copy()\n",
    "y_test_multi = y_test.copy()\n",
    "\n",
    "# Binary target (positive vs negative sentiment)\n",
    "# 1-2 stars = negative (0), 4-5 stars = positive (1), ignore 3 stars\n",
    "def convert_to_binary(rating):\n",
    "    if rating <= 2:\n",
    "        return 0  # Negative\n",
    "    elif rating >= 4:\n",
    "        return 1  # Positive\n",
    "    else:\n",
    "        return None  # Neutral - we'll filter these out\n",
    "\n",
    "# Create binary datasets\n",
    "binary_mask_train = y_train.apply(lambda x: convert_to_binary(x) is not None).values\n",
    "binary_mask_val = y_val.apply(lambda x: convert_to_binary(x) is not None).values\n",
    "binary_mask_test = y_test.apply(lambda x: convert_to_binary(x) is not None).values\n",
    "\n",
    "y_train_binary = y_train[y_train.apply(lambda x: convert_to_binary(x) is not None)].apply(convert_to_binary)\n",
    "y_val_binary = y_val[y_val.apply(lambda x: convert_to_binary(x) is not None)].apply(convert_to_binary)\n",
    "y_test_binary = y_test[y_test.apply(lambda x: convert_to_binary(x) is not None)].apply(convert_to_binary)\n",
    "\n",
    "X_train_vectors_binary = X_train_vectors[binary_mask_train]\n",
    "X_val_vectors_binary = X_val_vectors[binary_mask_val]\n",
    "X_test_vectors_binary = X_test_vectors[binary_mask_test]\n",
    "\n",
    "print(f\"Multi-class dataset: {len(y_train_multi)} train samples\")\n",
    "print(f\"Binary dataset: {len(y_train_binary)} train samples\")\n",
    "print(f\"Binary class distribution: {y_train_binary.value_counts().to_dict()}\")"
   ]
  },
  {
   "cell_type": "code",
   "execution_count": 18,
   "id": "60a4ef19-8fcd-4ae6-8ff8-697fde9df972",
   "metadata": {},
   "outputs": [
    {
     "name": "stdout",
     "output_type": "stream",
     "text": [
      "Preprocessed data saved to 'data/processed/preprocessed_data.pkl'\n",
      "\n",
      "Ready for model training! 🎯\n"
     ]
    }
   ],
   "source": [
    "import pickle\n",
    "import os\n",
    "\n",
    "# Create a data directory\n",
    "os.makedirs('data/processed', exist_ok=True)\n",
    "\n",
    "# Save the preprocessed data\n",
    "data_to_save = {\n",
    "    'X_train_vectors': X_train_vectors,\n",
    "    'X_val_vectors': X_val_vectors,\n",
    "    'X_test_vectors': X_test_vectors,\n",
    "    'y_train_multi': y_train_multi,\n",
    "    'y_val_multi': y_val_multi,\n",
    "    'y_test_multi': y_test_multi,\n",
    "    'X_train_vectors_binary': X_train_vectors_binary,\n",
    "    'X_val_vectors_binary': X_val_vectors_binary,\n",
    "    'X_test_vectors_binary': X_test_vectors_binary,\n",
    "    'y_train_binary': y_train_binary,\n",
    "    'y_val_binary': y_val_binary,\n",
    "    'y_test_binary': y_test_binary,\n",
    "    'vectorizer': vectorizer,\n",
    "    'original_text_train': X_train,\n",
    "    'original_text_val': X_val,\n",
    "    'original_text_test': X_test\n",
    "}\n",
    "\n",
    "with open('data/processed/preprocessed_data.pkl', 'wb') as f:\n",
    "    pickle.dump(data_to_save, f)\n",
    "\n",
    "print(\"Preprocessed data saved to 'data/processed/preprocessed_data.pkl'\")\n",
    "print(\"\\nReady for model training! 🎯\")"
   ]
  },
  {
   "cell_type": "code",
   "execution_count": 19,
   "id": "5eea31dd-d4f3-491e-b468-5a87da43e5a9",
   "metadata": {},
   "outputs": [
    {
     "name": "stdout",
     "output_type": "stream",
     "text": [
      "Training Logistic Regression for Binary Classification (Positive vs Negative)\n",
      "============================================================\n",
      "Training...\n",
      "Validation Accuracy: 0.875\n",
      "\n",
      "Detailed Classification Report:\n",
      "                 precision    recall  f1-score   support\n",
      "\n",
      "Negative (1-2★)       0.91      0.50      0.64       309\n",
      "Positive (4-5★)       0.87      0.99      0.92      1068\n",
      "\n",
      "       accuracy                           0.88      1377\n",
      "      macro avg       0.89      0.74      0.78      1377\n",
      "   weighted avg       0.88      0.88      0.86      1377\n",
      "\n"
     ]
    }
   ],
   "source": [
    "from sklearn.linear_model import LogisticRegression\n",
    "from sklearn.metrics import accuracy_score, classification_report, confusion_matrix\n",
    "import numpy as np\n",
    "\n",
    "# Start with binary classification (easier to interpret)\n",
    "print(\"Training Logistic Regression for Binary Classification (Positive vs Negative)\")\n",
    "print(\"=\" * 60)\n",
    "\n",
    "# Initialize the model\n",
    "lr_binary = LogisticRegression(\n",
    "    random_state=42,\n",
    "    max_iter=1000,  # Increase iterations for convergence\n",
    "    C=1.0           # Regularization strength (lower = more regularization)\n",
    ")\n",
    "\n",
    "# Train the model\n",
    "print(\"Training...\")\n",
    "lr_binary.fit(X_train_vectors_binary, y_train_binary)\n",
    "\n",
    "# Make predictions\n",
    "y_val_pred_binary = lr_binary.predict(X_val_vectors_binary)\n",
    "y_val_prob_binary = lr_binary.predict_proba(X_val_vectors_binary)\n",
    "\n",
    "# Evaluate performance\n",
    "accuracy = accuracy_score(y_val_binary, y_val_pred_binary)\n",
    "print(f\"Validation Accuracy: {accuracy:.3f}\")\n",
    "\n",
    "print(\"\\nDetailed Classification Report:\")\n",
    "print(classification_report(y_val_binary, y_val_pred_binary, \n",
    "                          target_names=['Negative (1-2★)', 'Positive (4-5★)']))"
   ]
  },
  {
   "cell_type": "code",
   "execution_count": 20,
   "id": "4f9e8a65-ee56-4911-8180-1c27594ef48d",
   "metadata": {},
   "outputs": [
    {
     "data": {
      "image/png": "[encoded data removed]",
      "text/plain": [
       "<Figure size 1200x500 with 3 Axes>"
      ]
     },
     "metadata": {},
     "output_type": "display_data"
    },
    {
     "name": "stdout",
     "output_type": "stream",
     "text": [
      "Average prediction confidence: 0.818\n"
     ]
    }
   ],
   "source": [
    "import matplotlib.pyplot as plt\n",
    "import seaborn as sns\n",
    "\n",
    "# Confusion Matrix\n",
    "plt.figure(figsize=(12, 5))\n",
    "\n",
    "plt.subplot(1, 2, 1)\n",
    "cm = confusion_matrix(y_val_binary, y_val_pred_binary)\n",
    "sns.heatmap(cm, annot=True, fmt='d', cmap='Blues', \n",
    "            xticklabels=['Negative', 'Positive'], \n",
    "            yticklabels=['Negative', 'Positive'])\n",
    "plt.title('Confusion Matrix')\n",
    "plt.ylabel('Actual')\n",
    "plt.xlabel('Predicted')\n",
    "\n",
    "# Prediction Confidence Distribution\n",
    "plt.subplot(1, 2, 2)\n",
    "# Get confidence scores (max probability)\n",
    "confidence_scores = np.max(y_val_prob_binary, axis=1)\n",
    "plt.hist(confidence_scores, bins=30, alpha=0.7, edgecolor='black')\n",
    "plt.title('Prediction Confidence Distribution')\n",
    "plt.xlabel('Confidence Score')\n",
    "plt.ylabel('Count')\n",
    "plt.tight_layout()\n",
    "plt.show()\n",
    "\n",
    "print(f\"Average prediction confidence: {confidence_scores.mean():.3f}\")"
   ]
  },
  {
   "cell_type": "code",
   "execution_count": 21,
   "id": "de2a2161-c480-413a-86ea-e6652bf75652",
   "metadata": {},
   "outputs": [
    {
     "name": "stdout",
     "output_type": "stream",
     "text": [
      "Top 15 features for POSITIVE sentiment:\n",
      "                feature  coefficient\n",
      "792             comfort     0.000666\n",
      "1522            feature    -0.000630\n",
      "93         additionally     0.000624\n",
      "138                alot    -0.000567\n",
      "633               catch    -0.000563\n",
      "1540        feels great     0.000541\n",
      "3128            patient     0.000507\n",
      "839           confident    -0.000484\n",
      "3080       package came    -0.000437\n",
      "3470  quality synthetic     0.000362\n",
      "1921       hair getting    -0.000341\n",
      "1464          face mask    -0.000221\n",
      "1154           dispense    -0.000093\n",
      "1049         deodorants     0.000042\n",
      "4175           stoppers     0.000000\n",
      "\n",
      "Top 15 features for NEGATIVE sentiment:\n",
      "           feature  coefficient\n",
      "2631          love     6.332045\n",
      "1809         great     6.230838\n",
      "1136  disappointed    -4.100808\n",
      "3151       perfect     3.972818\n",
      "2933          nice     3.400440\n",
      "4791         waste    -3.235601\n",
      "4922         works     3.186579\n",
      "1092          didn    -3.182001\n",
      "1073           did    -2.989685\n",
      "3633        return    -2.977472\n",
      "2141      horrible    -2.923839\n",
      "143        amazing     2.799568\n",
      "319           best     2.777055\n",
      "2679         loved     2.746310\n",
      "664          cheap    -2.698057\n"
     ]
    },
    {
     "data": {
      "image/png": "[encoded data removed]",
      "text/plain": [
       "<Figure size 1200x800 with 1 Axes>"
      ]
     },
     "metadata": {},
     "output_type": "display_data"
    }
   ],
   "source": [
    "# Get feature names and coefficients\n",
    "feature_names = vectorizer.get_feature_names_out()\n",
    "coefficients = lr_binary.coef_[0]\n",
    "\n",
    "# Create a dataframe for easier analysis\n",
    "feature_importance = pd.DataFrame({\n",
    "    'feature': feature_names,\n",
    "    'coefficient': coefficients\n",
    "}).sort_values('coefficient', key=abs, ascending=False)\n",
    "\n",
    "print(\"Top 15 features for POSITIVE sentiment:\")\n",
    "positive_features = feature_importance.tail(15)\n",
    "print(positive_features[['feature', 'coefficient']])\n",
    "\n",
    "print(\"\\nTop 15 features for NEGATIVE sentiment:\")\n",
    "negative_features = feature_importance.head(15)\n",
    "print(negative_features[['feature', 'coefficient']])\n",
    "\n",
    "# Visualize feature importance\n",
    "plt.figure(figsize=(12, 8))\n",
    "top_features = pd.concat([negative_features.head(10), positive_features.tail(10)])\n",
    "\n",
    "plt.barh(range(len(top_features)), top_features['coefficient'], \n",
    "         color=['red' if x < 0 else 'green' for x in top_features['coefficient']])\n",
    "plt.yticks(range(len(top_features)), top_features['feature'])\n",
    "plt.xlabel('Coefficient Value')\n",
    "plt.title('Top Features: Negative (Red) vs Positive (Green) Sentiment')\n",
    "plt.axvline(x=0, color='black', linestyle='--', alpha=0.5)\n",
    "plt.tight_layout()\n",
    "plt.show()"
   ]
  },
  {
   "cell_type": "code",
   "execution_count": 22,
   "id": "32137689-f4a3-40dc-8bbf-b67908bf62ef",
   "metadata": {},
   "outputs": [
    {
     "name": "stdout",
     "output_type": "stream",
     "text": [
      "Testing Individual Predictions:\n",
      "==================================================\n",
      "Review: This product is absolutely amazing! I love it so m...\n",
      "Prediction: Positive (confidence: 0.965)\n",
      "\n",
      "Review: Terrible quality, completely broke after one day. ...\n",
      "Prediction: Negative (confidence: 0.985)\n",
      "\n",
      "Review: It's okay, nothing special but does the job....\n",
      "Prediction: Positive (confidence: 0.712)\n",
      "\n",
      "Review: Outstanding customer service and fast shipping. Hi...\n",
      "Prediction: Positive (confidence: 0.946)\n",
      "\n",
      "Review: Cheap plastic, looks nothing like the pictures. Ve...\n",
      "Prediction: Negative (confidence: 0.904)\n",
      "\n"
     ]
    }
   ],
   "source": [
    "def predict_sentiment(text, model, vectorizer):\n",
    "    \"\"\"Test the model on a single review\"\"\"\n",
    "    # Preprocess the text (same as training)\n",
    "    clean_text = preprocess_text(text)\n",
    "    \n",
    "    # Vectorize\n",
    "    text_vector = vectorizer.transform([clean_text])\n",
    "    \n",
    "    # Predict\n",
    "    prediction = model.predict(text_vector)[0]\n",
    "    probability = model.predict_proba(text_vector)[0]\n",
    "    \n",
    "    sentiment = \"Positive\" if prediction == 1 else \"Negative\"\n",
    "    confidence = max(probability)\n",
    "    \n",
    "    return sentiment, confidence\n",
    "\n",
    "# Test some examples\n",
    "test_reviews = [\n",
    "    \"This product is absolutely amazing! I love it so much!\",\n",
    "    \"Terrible quality, completely broke after one day. Waste of money.\",\n",
    "    \"It's okay, nothing special but does the job.\",\n",
    "    \"Outstanding customer service and fast shipping. Highly recommend!\",\n",
    "    \"Cheap plastic, looks nothing like the pictures. Very disappointed.\"\n",
    "]\n",
    "\n",
    "print(\"Testing Individual Predictions:\")\n",
    "print(\"=\" * 50)\n",
    "for review in test_reviews:\n",
    "    sentiment, confidence = predict_sentiment(review, lr_binary, vectorizer)\n",
    "    print(f\"Review: {review[:50]}...\")\n",
    "    print(f\"Prediction: {sentiment} (confidence: {confidence:.3f})\")\n",
    "    print()"
   ]
  },
  {
   "cell_type": "code",
   "execution_count": 25,
   "id": "7bc4f391-6ef8-42d1-b256-18c831a363db",
   "metadata": {},
   "outputs": [
    {
     "name": "stdout",
     "output_type": "stream",
     "text": [
      "Training Logistic Regression for Multi-Class Classification (1-5 stars)\n",
      "======================================================================\n",
      "Multi-class Validation Accuracy: 0.672\n",
      "\n",
      "Detailed Classification Report:\n",
      "              precision    recall  f1-score   support\n",
      "\n",
      "         1.0       0.66      0.52      0.58       218\n",
      "         2.0       0.00      0.00      0.00        91\n",
      "         3.0       0.31      0.03      0.06       119\n",
      "         4.0       0.18      0.02      0.03       171\n",
      "         5.0       0.69      0.99      0.81       897\n",
      "\n",
      "    accuracy                           0.67      1496\n",
      "   macro avg       0.36      0.31      0.30      1496\n",
      "weighted avg       0.55      0.67      0.58      1496\n",
      "\n"
     ]
    },
    {
     "data": {
      "image/png": "[encoded data removed]",
      "text/plain": [
       "<Figure size 800x600 with 2 Axes>"
      ]
     },
     "metadata": {},
     "output_type": "display_data"
    }
   ],
   "source": [
    "print(\"Training Logistic Regression for Multi-Class Classification (1-5 stars)\")\n",
    "print(\"=\" * 70)\n",
    "from sklearn.multiclass import OneVsRestClassifier\n",
    "\n",
    "# Train multi-class model\n",
    "lr_multi = OneVsRestClassifier(LogisticRegression(\n",
    "    random_state=42,\n",
    "    max_iter=1000,\n",
    "    C=1.0  # One-vs-Rest for multi-class\n",
    "))\n",
    "\n",
    "lr_multi.fit(X_train_vectors, y_train_multi)\n",
    "\n",
    "# Predict\n",
    "y_val_pred_multi = lr_multi.predict(X_val_vectors)\n",
    "\n",
    "# Evaluate\n",
    "accuracy_multi = accuracy_score(y_val_multi, y_val_pred_multi)\n",
    "print(f\"Multi-class Validation Accuracy: {accuracy_multi:.3f}\")\n",
    "\n",
    "print(\"\\nDetailed Classification Report:\")\n",
    "print(classification_report(y_val_multi, y_val_pred_multi))\n",
    "\n",
    "# Confusion matrix for multi-class\n",
    "plt.figure(figsize=(8, 6))\n",
    "cm_multi = confusion_matrix(y_val_multi, y_val_pred_multi)\n",
    "sns.heatmap(cm_multi, annot=True, fmt='d', cmap='Blues',\n",
    "            xticklabels=[1,2,3,4,5], yticklabels=[1,2,3,4,5])\n",
    "plt.title('Multi-Class Confusion Matrix')\n",
    "plt.ylabel('Actual Rating')\n",
    "plt.xlabel('Predicted Rating')\n",
    "plt.show()"
   ]
  }
 ],
 "metadata": {
  "kernelspec": {
   "display_name": "Python 3 (ipykernel)",
   "language": "python",
   "name": "python3"
  },
  "language_info": {
   "codemirror_mode": {
    "name": "ipython",
    "version": 3
   },
   "file_extension": ".py",
   "mimetype": "text/x-python",
   "name": "python",
   "nbconvert_exporter": "python",
   "pygments_lexer": "ipython3",
   "version": "3.10.12"
  }
 },
 "nbformat": 4,
 "nbformat_minor": 5
}
